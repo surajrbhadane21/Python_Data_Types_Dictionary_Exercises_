{
 "cells": [
  {
   "cell_type": "markdown",
   "metadata": {
    "id": "goiB2WZ6pkko"
   },
   "source": [
    "# **Python Data Types: Dictionary - Exercises**"
   ]
  },
  {
   "cell_type": "markdown",
   "metadata": {
    "id": "JWRD5f0pecjW"
   },
   "source": [
    "Q.1. Write a Python program to combine two dictionary adding values for common keys. Go to the editor\n",
    "\n",
    "d1 = {'a': 100, 'b': 200, 'c':300}\n",
    "\n",
    "d2 = {'a': 300, 'b': 200, 'd':400}\n",
    "\n",
    "Sample output: Counter({'a': 400, 'b': 400, 'd': 400, 'c': 300})"
   ]
  },
  {
   "cell_type": "code",
   "execution_count": 1,
   "metadata": {},
   "outputs": [],
   "source": [
    "d1={'a':100,'b':200,'c':300}\n",
    "d2={'a':300,'b':200,'d':400}\n"
   ]
  },
  {
   "cell_type": "code",
   "execution_count": 2,
   "metadata": {
    "id": "ls6K9GOaehFq"
   },
   "outputs": [],
   "source": [
    "from collections import Counter"
   ]
  },
  {
   "cell_type": "code",
   "execution_count": 4,
   "metadata": {},
   "outputs": [],
   "source": [
    "a = Counter(d1)+Counter(d2)"
   ]
  },
  {
   "cell_type": "code",
   "execution_count": 5,
   "metadata": {},
   "outputs": [
    {
     "data": {
      "text/plain": [
       "Counter({'a': 400, 'b': 400, 'c': 300, 'd': 400})"
      ]
     },
     "execution_count": 5,
     "metadata": {},
     "output_type": "execute_result"
    }
   ],
   "source": [
    "a"
   ]
  },
  {
   "cell_type": "markdown",
   "metadata": {
    "id": "bc09oJj8fJPc"
   },
   "source": [
    "Q.2.Write a Python program to combine two lists into a dictionary, where the elements of the first one serve as the keys and the elements of the second one serve as the values. The values of the first list need to be unique and hashable. Go to the editor\n",
    "\n",
    "\n",
    "\n",
    "Original lists:\n",
    "\n",
    "l1 = ['a', 'b', 'c', 'd', 'e', 'f']\n",
    "\n",
    "l2 = [1, 2, 3, 4, 5]\n",
    "\n",
    "Sample Output:\n",
    "\n",
    "Combine the values of the said two lists into a dictionary:\n",
    "\n",
    "{'a': 1, 'b': 2, 'c': 3, 'd': 4, 'e': 5}"
   ]
  },
  {
   "cell_type": "code",
   "execution_count": 11,
   "metadata": {
    "id": "JsnnPQTVfUFU"
   },
   "outputs": [
    {
     "data": {
      "text/plain": [
       "{'a': 1, 'b': 2, 'c': 3, 'd': 4, 'e': 5}"
      ]
     },
     "execution_count": 11,
     "metadata": {},
     "output_type": "execute_result"
    }
   ],
   "source": [
    "l1 = ['a', 'b', 'c', 'd', 'e', 'f']\n",
    "\n",
    "l2 = [1, 2, 3, 4, 5]\n",
    "s=zip(l1,l2)\n",
    "x=dict(s)\n",
    "x"
   ]
  },
  {
   "cell_type": "markdown",
   "metadata": {
    "id": "sfUwhAqxgxoV"
   },
   "source": [
    "Q.3. Write a Python program to find the key of the maximum value in a dictionary. Go to the editor\n",
    "\n",
    "Original dictionary elements:\n",
    "\n",
    "{'Theodore': 19, 'Roxanne': 22, 'Mathew': 21, 'Betty': 20}\n",
    "\n",
    "**Sample Output:** Finds the key of the maximum and minimum value of the said dictionary:\n",
    "\n",
    "('Roxanne', 'Theodore')"
   ]
  },
  {
   "cell_type": "code",
   "execution_count": 35,
   "metadata": {
    "id": "jF88i8j2gTYs"
   },
   "outputs": [
    {
     "name": "stdout",
     "output_type": "stream",
     "text": [
      "min : Theodore\n",
      "max : Roxanne\n"
     ]
    }
   ],
   "source": [
    "d={'Theodore': 19, 'Roxanne': 22, 'Mathew': 21, 'Betty': 20}\n",
    "for keys,values in d.items():\n",
    "    if d[keys]==max(d.values()):\n",
    "        print(\"max :\",keys)\n",
    "    if d[keys]==min(d.values()):\n",
    "        print(\"min :\",keys)    "
   ]
  },
  {
   "cell_type": "markdown",
   "metadata": {
    "id": "KLLN4GEqhMnc"
   },
   "source": [
    " Q.4. Write a Python program to combines two or more dictionaries, creating a list of values for each key. Go to the editor\n",
    "\n",
    "\n",
    "Original dictionaries:\n",
    "\n",
    "l1 = {'w': 50, 'x': 100, 'y': 'Green', 'z': 400}\n",
    "\n",
    "l2 = {'x': 300, 'y': 'Red', 'z': 600}\n",
    "\n",
    "**Sample Output:** Combined dictionaries, creating a list of values for each key:\n",
    "\n",
    "{'w': [50], 'x': [100, 300], 'y': ['Green', 'Red'], 'z': [400, 600]}"
   ]
  },
  {
   "cell_type": "code",
   "execution_count": 43,
   "metadata": {
    "id": "27XO2I0Pg_ay"
   },
   "outputs": [],
   "source": [
    "from collections import defaultdict"
   ]
  },
  {
   "cell_type": "code",
   "execution_count": 46,
   "metadata": {},
   "outputs": [],
   "source": [
    "l1 = {'W':50,'X':100,'Y':'Green','Z':400}\n",
    "l2 = {'X':300,'Y':'Red','Z':600}\n",
    "\n",
    "#for key,value in l1.items():\n",
    " #   for k,v in l2.items():\n",
    "        "
   ]
  },
  {
   "cell_type": "code",
   "execution_count": 41,
   "metadata": {},
   "outputs": [],
   "source": [
    "l1 = {'w': 50, 'x': 100, 'y': 'Green', 'z': 400}\n",
    "\n",
    "l2 = {'x': 300, 'y': 'Red', 'z': 600}"
   ]
  },
  {
   "cell_type": "code",
   "execution_count": 60,
   "metadata": {},
   "outputs": [],
   "source": [
    "s = set(list(l1.keys())+list(l2.keys()))"
   ]
  },
  {
   "cell_type": "code",
   "execution_count": 68,
   "metadata": {},
   "outputs": [
    {
     "name": "stdout",
     "output_type": "stream",
     "text": [
      "{'z': [600, 600], 'y': ['Red', 'Red'], 'w': [50], 'x': [300, 300]}\n"
     ]
    }
   ],
   "source": [
    "d={}\n",
    "for i in s:\n",
    "    #print(i)\n",
    "    if i in (l1.keys() and l2.keys()):\n",
    "        #print(i)\n",
    "        d[i]=[l1[i],l2[i]]\n",
    "        \n",
    "    elif i in l1.keys():\n",
    "            d[i]=[l1[i]]\n",
    "            \n",
    "    else: d[i]=[l2[i]]\n",
    "        \n",
    "print(d)   "
   ]
  },
  {
   "cell_type": "markdown",
   "metadata": {
    "id": "0X6AfuLEh9Yb"
   },
   "source": [
    "Q.5. Write a Python program to check if a specific Key and a value exist in a dictionary. Go to the editor\n",
    "\n",
    "Original dictionary:\n",
    "\n",
    "[{'student_id': 1, 'name': 'Jean Castro', 'class': 'V'}, {'student_id': 2, 'name': 'Lula Powell', 'class': 'V'}, {'student_id': 3, 'name': 'Brian Howell', 'class': 'VI'}, {'student_id': 4, 'name': 'Lynne Foster', 'class': 'VI'}, {'student_id': 5, 'name': 'Zachary Simon', 'class': 'VII'}]\n",
    "\n",
    "Check if a specific Key and a value exist in the said dictionary:\n",
    "\n",
    "True\n",
    "\n",
    "True\n",
    "\n",
    "True\n",
    "\n",
    "False\n",
    "\n",
    "False\n",
    "\n",
    "False"
   ]
  },
  {
   "cell_type": "code",
   "execution_count": 21,
   "metadata": {},
   "outputs": [],
   "source": [
    "def test(dict,key,value):\n",
    "    if any(d[key]==value for d in dict):\n",
    "        return True\n",
    "    return False"
   ]
  },
  {
   "cell_type": "code",
   "execution_count": 22,
   "metadata": {
    "id": "Ccxu9y_8hgOy"
   },
   "outputs": [
    {
     "data": {
      "text/plain": [
       "[{'student_id': 1, 'name': 'Jean Castro', 'class': 'V'},\n",
       " {'student_id': 2, 'name': 'Lula Powell', 'class': 'V'},\n",
       " {'student_id': 3, 'name': 'Brian Howell', 'class': 'VI'},\n",
       " {'student_id': 4, 'name': 'Lynne Foster', 'class': 'VI'},\n",
       " {'student_id': 5, 'name': 'Zachary Simon', 'class': 'VII'}]"
      ]
     },
     "execution_count": 22,
     "metadata": {},
     "output_type": "execute_result"
    }
   ],
   "source": [
    "student = [{'student_id': 1, 'name': 'Jean Castro', 'class': 'V'}, \n",
    " {'student_id': 2, 'name': 'Lula Powell', 'class': 'V'}, \n",
    " {'student_id': 3, 'name': 'Brian Howell', 'class': 'VI'},\n",
    " {'student_id': 4, 'name': 'Lynne Foster', 'class': 'VI'}, \n",
    " {'student_id': 5, 'name': 'Zachary Simon', 'class': 'VII'}]\n",
    "student"
   ]
  },
  {
   "cell_type": "code",
   "execution_count": 23,
   "metadata": {},
   "outputs": [
    {
     "name": "stdout",
     "output_type": "stream",
     "text": [
      "\n",
      "Original dictionary:\n",
      "[{'student_id': 1, 'name': 'Jean Castro', 'class': 'V'}, {'student_id': 2, 'name': 'Lula Powell', 'class': 'V'}, {'student_id': 3, 'name': 'Brian Howell', 'class': 'VI'}, {'student_id': 4, 'name': 'Lynne Foster', 'class': 'VI'}, {'student_id': 5, 'name': 'Zachary Simon', 'class': 'VII'}]\n",
      "\n",
      "Check if a specific Key and a value exist in the said dictionary:\n",
      "True\n",
      "True\n",
      "True\n",
      "False\n",
      "False\n",
      "False\n"
     ]
    }
   ],
   "source": [
    "print(\"\\nOriginal dictionary:\")\n",
    "print(student)\n",
    "print(\"\\nCheck if a specific Key and a value exist in the said dictionary:\")\n",
    "print(test(student,'student_id',1))\n",
    "print(test(student,'name', 'Brian Howell'))\n",
    "print(test(student,'class', 'VII'))\n",
    "print(test(student,'class', 'I'))\n",
    "print(test(student,'name', 'Brian Howelll'))\n",
    "print(test(student,'student_id',11))"
   ]
  },
  {
   "cell_type": "markdown",
   "metadata": {
    "id": "8q0QgsGPiTFx"
   },
   "source": [
    "Q.6. Write a Python program to count the frequency in a given dictionary. Go to the editor\n",
    "\n",
    "Original Dictionary:\n",
    "\n",
    "{'V': 10, 'VI': 10, 'VII': 40, 'VIII': 20, 'IX': 70, 'X': 80, 'XI': 40, 'XII': 20}\n",
    "\n",
    "**Sample Output =** Count the frequency of the said dictionary:\n",
    "\n",
    "Counter({10: 2, 40: 2, 20: 2, 70: 1, 80: 1})"
   ]
  },
  {
   "cell_type": "code",
   "execution_count": 28,
   "metadata": {
    "id": "sqQmQuEViH-R"
   },
   "outputs": [],
   "source": [
    "from collections import Counter\n",
    "def test(dict):\n",
    "    result=Counter(dict.values())\n",
    "    return result"
   ]
  },
  {
   "cell_type": "code",
   "execution_count": 29,
   "metadata": {},
   "outputs": [
    {
     "name": "stdout",
     "output_type": "stream",
     "text": [
      "{'V': 10, 'VI': 10, 'VII': 40, 'VIII': 20, 'IX': 70, 'X': 80, 'XI': 40, 'XII': 20}\n"
     ]
    }
   ],
   "source": [
    "dict={'V': 10, 'VI': 10, 'VII': 40, 'VIII': 20, 'IX': 70, 'X': 80, 'XI': 40, 'XII': 20}\n",
    "print(dict)"
   ]
  },
  {
   "cell_type": "code",
   "execution_count": 30,
   "metadata": {},
   "outputs": [
    {
     "name": "stdout",
     "output_type": "stream",
     "text": [
      "Counter({10: 2, 40: 2, 20: 2, 70: 1, 80: 1})\n"
     ]
    }
   ],
   "source": [
    "print(test(dict))"
   ]
  },
  {
   "cell_type": "code",
   "execution_count": 15,
   "metadata": {},
   "outputs": [],
   "source": [
    "l={'V': 10, 'VI': 10, 'VII': 40, 'VIII': 20, 'IX': 70, 'X': 80, 'XI': 40, 'XII': 20}"
   ]
  },
  {
   "cell_type": "code",
   "execution_count": 11,
   "metadata": {},
   "outputs": [
    {
     "data": {
      "text/plain": [
       "2"
      ]
     },
     "execution_count": 11,
     "metadata": {},
     "output_type": "execute_result"
    }
   ],
   "source": [
    "l1 = list(l.values()).count(i)\n",
    "l1"
   ]
  },
  {
   "cell_type": "code",
   "execution_count": null,
   "metadata": {},
   "outputs": [],
   "source": []
  },
  {
   "cell_type": "markdown",
   "metadata": {
    "id": "dMmbY7H1iulo"
   },
   "source": [
    "Q.7. Write a Python program to find shortest list of values with the keys in a given dictionary. Go to the editor\n",
    "\n",
    "Original Dictionary: {'V': [10, 12], 'VI': [10], 'VII': [10, 20, 30, 40], 'VIII': [20], 'IX': [10, 30, 50, 70], 'X': [80]}\n",
    "\n",
    " **Sample Output =** Shortest list of values with the keys of the said dictionary:   \n",
    "  ['VI', 'VIII', 'X']"
   ]
  },
  {
   "cell_type": "code",
   "execution_count": null,
   "metadata": {},
   "outputs": [],
   "source": []
  },
  {
   "cell_type": "code",
   "execution_count": null,
   "metadata": {},
   "outputs": [],
   "source": []
  },
  {
   "cell_type": "code",
   "execution_count": 32,
   "metadata": {},
   "outputs": [],
   "source": [
    "def test(dict):\n",
    "    minimum_value=1\n",
    "    result = [k for k,v in dict.items() if len(v)==(minimum_value)] \n",
    "    return result"
   ]
  },
  {
   "cell_type": "code",
   "execution_count": 33,
   "metadata": {
    "id": "BtqyzbYtihBJ"
   },
   "outputs": [],
   "source": [
    "dict={'V': [10, 12], 'VI': [10], 'VII': [10, 20, 30, 40], 'VIII': [20], 'IX': [10, 30, 50, 70], 'X': [80]}"
   ]
  },
  {
   "cell_type": "code",
   "execution_count": 34,
   "metadata": {},
   "outputs": [
    {
     "name": "stdout",
     "output_type": "stream",
     "text": [
      "['VI', 'VIII', 'X']\n"
     ]
    }
   ],
   "source": [
    "print(test(dict))"
   ]
  },
  {
   "cell_type": "markdown",
   "metadata": {
    "id": "nV8tS94bj0bj"
   },
   "source": [
    "Q.8. Write a Python program to find the specified number of maximum values in a given dictionary. Go to the editor\n",
    "\n",
    "**Original Dictionary:**   {'a': 5, 'b': 14, 'c': 32, 'd': 35, 'e': 24, 'f': 100, 'g': 57, 'h': 8, 'i': 100}\n",
    "\n",
    "**Required Output =**\n",
    "\n",
    "1 maximum value(s) in the said dictionary:\n",
    "\n",
    "['f']\n",
    "\n",
    "2 maximum value(s) in the said dictionary:\n",
    "\n",
    "['f', 'i']\n",
    "\n",
    "5 maximum value(s) in the said dictionary:\n",
    "\n",
    "['f', 'i', 'g', 'd', 'c']"
   ]
  },
  {
   "cell_type": "code",
   "execution_count": 35,
   "metadata": {
    "id": "Gw20P-gRi-ZH"
   },
   "outputs": [],
   "source": [
    "dict={'a': 5, 'b': 14, 'c': 32, 'd': 35, 'e': 24, 'f': 100, 'g': 57, 'h': 8, 'i': 100}"
   ]
  },
  {
   "cell_type": "code",
   "execution_count": null,
   "metadata": {},
   "outputs": [],
   "source": [
    "for k,v in dict:\n",
    "    "
   ]
  },
  {
   "cell_type": "code",
   "execution_count": 36,
   "metadata": {},
   "outputs": [
    {
     "name": "stdout",
     "output_type": "stream",
     "text": [
      "\n",
      "Original Dictionary:\n",
      "{'a': 5, 'b': 14, 'c': 32, 'd': 35, 'e': 24, 'f': 100, 'g': 57, 'h': 8, 'i': 100}\n",
      "\n",
      " 1 maximum value(s) in the said dictionary:\n",
      "['f']\n",
      "\n",
      " 2 maximum value(s) in the said dictionary:\n",
      "['f', 'i']\n",
      "\n",
      " 5 maximum value(s) in the said dictionary:\n",
      "['f', 'i', 'g', 'd', 'c']\n"
     ]
    }
   ],
   "source": [
    "def test(dictt, N):\n",
    "    result = sorted(dictt, key=dictt.get, reverse=True)[:N]\n",
    "    return result \n",
    "dictt = {'a':5, 'b':14, 'c': 32, 'd':35, 'e':24, 'f': 100, 'g':57, 'h':8, 'i': 100}\n",
    "print(\"\\nOriginal Dictionary:\")\n",
    "print(dictt)\n",
    "N = 1\n",
    "print(\"\\n\",N,\"maximum value(s) in the said dictionary:\")\n",
    "print(test(dictt, N))\n",
    "N = 2\n",
    "print(\"\\n\",N,\"maximum value(s) in the said dictionary:\")\n",
    "print(test(dictt, N))\n",
    "N = 5\n",
    "print(\"\\n\",N,\"maximum value(s) in the said dictionary:\")\n",
    "print(test(dictt, N))"
   ]
  },
  {
   "cell_type": "markdown",
   "metadata": {
    "id": "nQz2Onp0mv3C"
   },
   "source": [
    "Q.9. Write a Python program to filter even numbers from a given dictionary values. Go to the editor\n",
    "\n",
    "Original Dictionary:\n",
    "\n",
    "D1 = {'V': [1, 4, 6, 10], 'VI': [1, 4, 12], 'VII': [1, 3, 8]}\n",
    "\n",
    "D2 = {'V': [1, 3, 5], 'VI': [1, 5], 'VII': [2, 7, 9]}\n",
    "\n",
    "**Required Output =** Filter even numbers from said dictionary values:\n",
    "\n",
    "D1 = {'V': [4, 6, 10], 'VI': [4, 12], 'VII': [8]}\n",
    "\n",
    "\n",
    "D2 = {'V': [], 'VI': [], 'VII': [2]}"
   ]
  },
  {
   "cell_type": "code",
   "execution_count": 74,
   "metadata": {},
   "outputs": [],
   "source": [
    "def test(dictt):\n",
    "    result = {key: [idx for idx in val if not idx%2] for key,val in dictt.items()}\n",
    "    return result"
   ]
  },
  {
   "cell_type": "code",
   "execution_count": 75,
   "metadata": {},
   "outputs": [
    {
     "data": {
      "text/plain": [
       "{'V': [4, 6, 10], 'VI': [4, 12], 'VII': [8]}"
      ]
     },
     "execution_count": 75,
     "metadata": {},
     "output_type": "execute_result"
    }
   ],
   "source": [
    "D1 = {'V': [1, 4, 6, 10], 'VI': [1, 4, 12], 'VII': [1, 3, 8]}\n",
    "test(D1)"
   ]
  },
  {
   "cell_type": "markdown",
   "metadata": {},
   "source": [
    "Q.9. Write a Python program to filter even numbers from a given dictionary values. Go to the editor\n",
    "\n",
    "Original Dictionary:\n",
    "\n",
    "D1 = {'V': [1, 4, 6, 10], 'VI': [1, 4, 12], 'VII': [1, 3, 8]}\n",
    "\n",
    "D2 = {'V': [1, 3, 5], 'VI': [1, 5], 'VII': [2, 7, 9]}\n",
    "\n",
    "Required Output = Filter even numbers from said dictionary values:\n",
    "\n",
    "D1 = {'V': [4, 6, 10], 'VI': [4, 12], 'VII': [8]}\n",
    "\n",
    "D2 = {'V': [], 'VI': [], 'VII': [2]}"
   ]
  },
  {
   "cell_type": "markdown",
   "metadata": {},
   "source": [
    "Q.9. Write a Python program to filter even numbers from a given dictionary values. Go to the editor\n",
    "\n",
    "Original Dictionary:\n",
    "\n",
    "D1 = {'V': [1, 4, 6, 10], 'VI': [1, 4, 12], 'VII': [1, 3, 8]}\n",
    "\n",
    "D2 = {'V': [1, 3, 5], 'VI': [1, 5], 'VII': [2, 7, 9]}\n",
    "\n",
    "Required Output = Filter even numbers from said dictionary values:\n",
    "\n",
    "D1 = {'V': [4, 6, 10], 'VI': [4, 12], 'VII': [8]}\n",
    "\n",
    "D2 = {'V': [], 'VI': [], 'VII': [2]}"
   ]
  },
  {
   "cell_type": "markdown",
   "metadata": {
    "id": "1qCVHMOpo9hz"
   },
   "source": [
    "Q.10. Write a Python program to find the length of a given dictionary values. Go to the editor\n",
    "\n",
    "Original Dictionary:\n",
    "\n",
    "D1 = {1: 'red', 2: 'green', 3: 'black', 4: 'white', 5: 'black'}\n",
    "\n",
    "D2 = {'1': 'Austin Little', '2': 'Natasha Howard', '3': 'Alfred Mullins', '4': 'Jamie Rowe'}\n",
    "\n",
    "**Required Output =** \n",
    "\n",
    "Length of dictionary values:\n",
    "\n",
    "{'red': 3, 'green': 5, 'black': 5, 'white': 5}\n",
    "\n",
    "\n",
    "Length of dictionary values:\n",
    "\n",
    "{'Austin Little': 13, 'Natasha Howard': 14, 'Alfred Mullins': 14, 'Jamie Rowe': 10}"
   ]
  },
  {
   "cell_type": "code",
   "execution_count": 39,
   "metadata": {
    "id": "hdG6AWh6nP9t"
   },
   "outputs": [],
   "source": [
    "D1 = {1: 'red', 2: 'green', 3: 'black', 4: 'white', 5: 'black'}\n",
    "\n",
    "D2 = {'1': 'Austin Little', '2': 'Natasha Howard', '3': 'Alfred Mullins', '4': 'Jamie Rowe'}"
   ]
  },
  {
   "cell_type": "code",
   "execution_count": 46,
   "metadata": {
    "id": "NxXUKqpcpZl8"
   },
   "outputs": [],
   "source": [
    "def dictt(dictt):\n",
    "    d1={}\n",
    "    \n",
    "    for k,v in dictt.items():\n",
    "        d1[dictt[k]]=len(dictt[k])\n",
    "\n",
    "    return d1    "
   ]
  },
  {
   "cell_type": "code",
   "execution_count": 49,
   "metadata": {},
   "outputs": [
    {
     "name": "stdout",
     "output_type": "stream",
     "text": [
      "{'red': 3, 'green': 5, 'black': 5, 'white': 5}\n",
      "{'Austin Little': 13, 'Natasha Howard': 14, 'Alfred Mullins': 14, 'Jamie Rowe': 10}\n"
     ]
    }
   ],
   "source": [
    "print(dictt(dictt=D1))\n",
    "print(dictt(dictt=D2))"
   ]
  },
  {
   "cell_type": "code",
   "execution_count": null,
   "metadata": {},
   "outputs": [],
   "source": []
  },
  {
   "cell_type": "code",
   "execution_count": null,
   "metadata": {},
   "outputs": [],
   "source": []
  },
  {
   "cell_type": "code",
   "execution_count": null,
   "metadata": {},
   "outputs": [],
   "source": []
  }
 ],
 "metadata": {
  "colab": {
   "collapsed_sections": [],
   "name": "Python Data Types: Dictionary - Exercises .ipynb",
   "private_outputs": true,
   "provenance": []
  },
  "kernelspec": {
   "display_name": "Python 3",
   "language": "python",
   "name": "python3"
  },
  "language_info": {
   "codemirror_mode": {
    "name": "ipython",
    "version": 3
   },
   "file_extension": ".py",
   "mimetype": "text/x-python",
   "name": "python",
   "nbconvert_exporter": "python",
   "pygments_lexer": "ipython3",
   "version": "3.8.5"
  }
 },
 "nbformat": 4,
 "nbformat_minor": 1
}
